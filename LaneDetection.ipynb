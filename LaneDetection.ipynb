{
 "cells": [
  {
   "cell_type": "markdown",
   "metadata": {},
   "source": [
    "# Lane Finding Project for Self-Driving Car ND"
   ]
  },
  {
   "cell_type": "code",
   "execution_count": 38,
   "metadata": {
    "collapsed": false
   },
   "outputs": [],
   "source": [
    "import matplotlib.pyplot as plt\n",
    "import matplotlib.image as mpimg\n",
    "import numpy as np\n",
    "import cv2\n",
    "%matplotlib inline"
   ]
  },
  {
   "cell_type": "code",
   "execution_count": 39,
   "metadata": {
    "collapsed": false
   },
   "outputs": [],
   "source": [
    "import math\n",
    "\n",
    "def grayscale(img):\n",
    "    \"\"\"\n",
    "    Converts image to grayscale.\n",
    "    \"\"\"\n",
    "    return cv2.cvtColor(img, cv2.COLOR_RGB2GRAY)\n",
    "\n",
    "def gaussian_blur(img, kernel_size):\n",
    "    \"\"\"\n",
    "    Applies Gaussian blur to image.\n",
    "    \"\"\"\n",
    "    return cv2.GaussianBlur(img, (kernel_size, kernel_size), 0)\n",
    "    \n",
    "def canny(img, low_threshold, high_threshold):\n",
    "    \"\"\"\n",
    "    Applies Canny transform.\n",
    "    \"\"\"\n",
    "    return cv2.Canny(img, low_threshold, high_threshold)\n",
    "\n",
    "def region_of_interest(img, vertices):\n",
    "    \"\"\"\n",
    "    Masks region outside of defined polygon.\n",
    "    \"\"\"\n",
    "    #defining a blank mask to start with\n",
    "    mask = np.zeros_like(img)   \n",
    "    \n",
    "    #defining a 3 channel or 1 channel color to fill the mask with depending on the input image\n",
    "    if len(img.shape) > 2:\n",
    "        channel_count = img.shape[2]  # i.e. 3 or 4 depending on your image\n",
    "        ignore_mask_color = (255,) * channel_count\n",
    "    else:\n",
    "        ignore_mask_color = 255\n",
    "        \n",
    "    #filling pixels inside the polygon defined by \"vertices\" with the fill color    \n",
    "    cv2.fillPoly(mask, vertices, ignore_mask_color)\n",
    "    \n",
    "    #returning the image only where mask pixels are nonzero\n",
    "    masked_image = cv2.bitwise_and(img, mask)\n",
    "    return masked_image\n",
    "\n",
    "def hough_lines(img, rho, theta, threshold, min_line_len, max_line_gap):\n",
    "    \"\"\"       \n",
    "    Applies Hough transform and sorts lines.\n",
    "    \"\"\"\n",
    "    left_lines = []\n",
    "    right_lines = []\n",
    "    \n",
    "    lines = cv2.HoughLinesP(img, rho, theta, threshold, np.array([]), minLineLength=min_line_len, maxLineGap=max_line_gap)\n",
    "\n",
    "    # Separate left and right lines based on slope\n",
    "    for line in lines:\n",
    "        for x1,y1,x2,y2 in line:\n",
    "            slope = ((y2-y1)/(x2-x1))\n",
    "            if slope < -0.5 and slope > -2:\n",
    "                left_lines.append(line)\n",
    "            elif slope > 0.5 and slope < 2:\n",
    "                right_lines.append(line)\n",
    "    \n",
    "    return left_lines, right_lines\n",
    "\n",
    "def coordinates(y_coor, lines, prev):\n",
    "    \"\"\"\n",
    "    Calculates the x coordinates for a lane line.\n",
    "    \"\"\"\n",
    "    if lines:\n",
    "        lines = [line.flatten() for line in lines]\n",
    "        \n",
    "        # Calculate line lengths to be used as weights in weighted average\n",
    "        lengths = [np.sqrt((line[2]-line[0])**2 + (line[3]-line[1])**2) for line in lines]\n",
    "        \n",
    "        # Calculate weighted average\n",
    "        avg = [int(np.average(line, weights = lengths)) for line in zip(*lines)]\n",
    "        \n",
    "        # Calculate equation of line coefficients\n",
    "        coef = np.polyfit((avg[0], avg[2]), (avg[1], avg[3]), 1)\n",
    "        \n",
    "        # Average equation of line coefficients with ones from previous frame\n",
    "        if sum(prev) != 0:\n",
    "            prev = [(prev[i] + coef[i])/2 for i in range(2)]\n",
    "        elif sum(prev) == 0:\n",
    "            prev = [coef[i] for i in range(2)]\n",
    "\n",
    "    # Calculate x coordinates given y coordinates\n",
    "    x_coor = [int((y-prev[1])/prev[0]) for y in y_coor]\n",
    "    coor = list(zip(x_coor, y_coor))\n",
    "    \n",
    "    return coor, prev\n",
    "        \n",
    "def draw_lines(img, coor, color=[255, 0, 0], thickness=10):\n",
    "    \"\"\"\n",
    "    Draws `lines` with `color` and `thickness`.\n",
    "    \"\"\"\n",
    "    return cv2.line(img, (coor[0][0], coor[0][1]), (coor[1][0], coor[1][1]), color, thickness)\n",
    "\n",
    "def weighted_img(img, initial_img, α=0.8, β=1., λ=0.):\n",
    "    \"\"\"\n",
    "    Combines transparency of input with initial image.\n",
    "    \"\"\"\n",
    "    return cv2.addWeighted(initial_img, α, img, β, λ)"
   ]
  },
  {
   "cell_type": "markdown",
   "metadata": {},
   "source": [
    "## Lane Line Identification - Images"
   ]
  },
  {
   "cell_type": "code",
   "execution_count": 40,
   "metadata": {
    "collapsed": false
   },
   "outputs": [],
   "source": [
    "# Variables\n",
    "global left_prev\n",
    "global right_prev\n",
    "\n",
    "left_prev = [0, 0]\n",
    "right_prev = [0, 0]\n",
    "\n",
    "# Parameters\n",
    "kernel_size = 3\n",
    "\n",
    "low_threshold = 50\n",
    "high_threshold = 150\n",
    "\n",
    "rho = 2\n",
    "theta = np.pi/180\n",
    "threshold = 30\n",
    "min_line_len = 100\n",
    "max_line_gap = 150\n",
    "\n",
    "for filename in os.listdir('images/input'):\n",
    "    if filename.endswith('.jpg'):\n",
    "        \n",
    "        filepath = os.path.join('images/input/', filename)\n",
    "        image = mpimg.imread(filepath)\n",
    "\n",
    "        gray = grayscale(image)\n",
    "        gray_blur = gaussian_blur(gray, kernel_size)\n",
    "        edges = canny(gray_blur, low_threshold, high_threshold)\n",
    "        \n",
    "        # Polygon dimensions\n",
    "        vertices = np.array([[(0, image.shape[0]),                    # Bottom left\n",
    "                      (image.shape[1]/2-20, int(image.shape[0]*0.6)), # Top left\n",
    "                      (image.shape[1]/2+20, int(image.shape[0]*0.6)), # Top right\n",
    "                      (image.shape[1], image.shape[0])]],             # Bottom right\n",
    "                    dtype = np.int32)\n",
    "        edges_masked = region_of_interest(edges, vertices)\n",
    "        \n",
    "        # Identify lines in image and sort into left and right lines\n",
    "        left_lines, right_lines = hough_lines(edges_masked, rho, theta, threshold, min_line_len, max_line_gap)\n",
    "        \n",
    "        # Calculate coordinates for left and right unbroken lines\n",
    "        y_coor = [int(image.shape[0]*0.6), image.shape[0]]\n",
    "        left_coor, left_prev = coordinates(y_coor, left_lines, left_prev)\n",
    "        right_coor, right_prev = coordinates(y_coor, right_lines, right_prev)\n",
    "        \n",
    "        # Draw left and right unbroken lines\n",
    "        line_image = np.zeros((image.shape[0], image.shape[1], 3), dtype=np.uint8)\n",
    "        draw_lines(line_image, left_coor) \n",
    "        draw_lines(line_image, right_coor)\n",
    "\n",
    "        # Overlay drawn lines onto original image\n",
    "        over = weighted_img(line_image, image)\n",
    "        \n",
    "        mpimg.imsave('images/output/identified_' + filename, over)"
   ]
  },
  {
   "cell_type": "markdown",
   "metadata": {},
   "source": [
    "## Lane Line Identification - Videos"
   ]
  },
  {
   "cell_type": "code",
   "execution_count": 41,
   "metadata": {
    "collapsed": true
   },
   "outputs": [],
   "source": [
    "from moviepy.editor import VideoFileClip\n",
    "from IPython.display import HTML"
   ]
  },
  {
   "cell_type": "code",
   "execution_count": 42,
   "metadata": {
    "collapsed": false
   },
   "outputs": [],
   "source": [
    "def process_image(image):\n",
    "\n",
    "    # Variables\n",
    "    global left_prev\n",
    "    global right_prev\n",
    "\n",
    "    # Parameters\n",
    "    kernel_size = 3\n",
    "\n",
    "    low_threshold = 50\n",
    "    high_threshold = 150\n",
    "\n",
    "    rho = 2\n",
    "    theta = np.pi/180\n",
    "    threshold = 30\n",
    "    min_line_len = 100\n",
    "    max_line_gap = 150\n",
    "\n",
    "    gray = grayscale(image)\n",
    "    gray_blur = gaussian_blur(gray, kernel_size)\n",
    "    edges = canny(gray_blur, low_threshold, high_threshold)\n",
    "\n",
    "    # Polygon dimensions\n",
    "    vertices = np.array([[(0, image.shape[0]),                    # Bottom left\n",
    "                  (image.shape[1]/2-20, int(image.shape[0]*0.6)), # Top left\n",
    "                  (image.shape[1]/2+20, int(image.shape[0]*0.6)), # Top right\n",
    "                  (image.shape[1], image.shape[0])]],             # Bottom right\n",
    "                dtype = np.int32)\n",
    "    edges_masked = region_of_interest(edges, vertices)\n",
    "\n",
    "    # Identify lines in image and sort into left and right lines\n",
    "    left_lines, right_lines = hough_lines(edges_masked, rho, theta, threshold, min_line_len, max_line_gap)\n",
    "\n",
    "    # Calculate coordinates for left and right unbroken lines\n",
    "    y_coor = [int(image.shape[0]*0.6), image.shape[0]]\n",
    "    left_coor, left_prev = coordinates(y_coor, left_lines, left_prev)\n",
    "    right_coor, right_prev = coordinates(y_coor, right_lines, right_prev)\n",
    "\n",
    "    # Draw left and right unbroken lines\n",
    "    line_image = np.zeros((image.shape[0], image.shape[1], 3), dtype=np.uint8)\n",
    "    draw_lines(line_image, left_coor) \n",
    "    draw_lines(line_image, right_coor)\n",
    "\n",
    "    return weighted_img(line_image, image)"
   ]
  },
  {
   "cell_type": "markdown",
   "metadata": {
    "collapsed": true
   },
   "source": [
    "### Solid White Lane Line"
   ]
  },
  {
   "cell_type": "code",
   "execution_count": 43,
   "metadata": {
    "collapsed": false,
    "scrolled": true
   },
   "outputs": [
    {
     "name": "stdout",
     "output_type": "stream",
     "text": [
      "[MoviePy] >>>> Building video videos/output/identified_solidWhiteRight.mp4\n",
      "[MoviePy] Writing video videos/output/identified_solidWhiteRight.mp4\n"
     ]
    },
    {
     "name": "stderr",
     "output_type": "stream",
     "text": [
      "\n",
      "  0%|          | 0/222 [00:00<?, ?it/s]\u001b[A\n",
      "  3%|▎         | 6/222 [00:00<00:03, 58.72it/s]\u001b[A\n",
      "  6%|▌         | 13/222 [00:00<00:03, 60.54it/s]\u001b[A\n",
      "  9%|▊         | 19/222 [00:00<00:03, 57.20it/s]\u001b[A\n",
      " 11%|█         | 24/222 [00:00<00:03, 52.29it/s]\u001b[A\n",
      " 14%|█▎        | 30/222 [00:00<00:03, 52.38it/s]\u001b[A\n",
      " 17%|█▋        | 37/222 [00:00<00:03, 55.45it/s]\u001b[A\n",
      " 20%|█▉        | 44/222 [00:00<00:03, 57.39it/s]\u001b[A\n",
      " 23%|██▎       | 50/222 [00:00<00:03, 45.40it/s]\u001b[A\n",
      " 25%|██▍       | 55/222 [00:01<00:03, 43.67it/s]\u001b[A\n",
      " 27%|██▋       | 60/222 [00:01<00:03, 41.18it/s]\u001b[A\n",
      " 29%|██▉       | 65/222 [00:01<00:03, 39.52it/s]\u001b[A\n",
      " 32%|███▏      | 70/222 [00:01<00:03, 39.64it/s]\u001b[A\n",
      " 34%|███▍      | 75/222 [00:01<00:03, 39.44it/s]\u001b[A\n",
      " 36%|███▌      | 80/222 [00:01<00:03, 40.40it/s]\u001b[A\n",
      " 38%|███▊      | 85/222 [00:01<00:03, 37.13it/s]\u001b[A\n",
      " 40%|████      | 89/222 [00:02<00:03, 34.23it/s]\u001b[A\n",
      " 42%|████▏     | 93/222 [00:02<00:03, 34.59it/s]\u001b[A\n",
      " 44%|████▎     | 97/222 [00:02<00:03, 35.58it/s]\u001b[A\n",
      " 45%|████▌     | 101/222 [00:02<00:03, 32.88it/s]\u001b[A\n",
      " 47%|████▋     | 105/222 [00:02<00:03, 32.49it/s]\u001b[A\n",
      " 49%|████▉     | 109/222 [00:02<00:03, 32.61it/s]\u001b[A\n",
      " 51%|█████     | 113/222 [00:02<00:03, 33.31it/s]\u001b[A\n",
      " 53%|█████▎    | 117/222 [00:02<00:03, 34.84it/s]\u001b[A\n",
      " 55%|█████▍    | 121/222 [00:02<00:02, 35.91it/s]\u001b[A\n",
      " 57%|█████▋    | 126/222 [00:03<00:02, 38.29it/s]\u001b[A\n",
      " 59%|█████▉    | 131/222 [00:03<00:02, 39.89it/s]\u001b[A\n",
      " 61%|██████▏   | 136/222 [00:03<00:02, 39.05it/s]\u001b[A\n",
      " 63%|██████▎   | 140/222 [00:03<00:02, 37.25it/s]\u001b[A\n",
      " 65%|██████▍   | 144/222 [00:03<00:02, 33.92it/s]\u001b[A\n",
      " 67%|██████▋   | 148/222 [00:03<00:02, 33.09it/s]\u001b[A\n",
      " 68%|██████▊   | 152/222 [00:03<00:02, 33.56it/s]\u001b[A\n",
      " 70%|███████   | 156/222 [00:03<00:02, 32.65it/s]\u001b[A\n",
      " 72%|███████▏  | 160/222 [00:04<00:01, 33.34it/s]\u001b[A\n",
      " 74%|███████▍  | 164/222 [00:04<00:01, 34.25it/s]\u001b[A\n",
      " 76%|███████▌  | 168/222 [00:04<00:01, 34.11it/s]\u001b[A\n",
      " 77%|███████▋  | 172/222 [00:04<00:01, 27.89it/s]\u001b[A\n",
      " 79%|███████▉  | 176/222 [00:04<00:01, 28.41it/s]\u001b[A\n",
      " 81%|████████  | 179/222 [00:04<00:01, 27.36it/s]\u001b[A\n",
      " 82%|████████▏ | 182/222 [00:04<00:01, 25.05it/s]\u001b[A\n",
      " 84%|████████▍ | 186/222 [00:05<00:01, 28.14it/s]\u001b[A\n",
      " 86%|████████▌ | 190/222 [00:05<00:01, 28.16it/s]\u001b[A\n",
      " 87%|████████▋ | 193/222 [00:05<00:01, 25.09it/s]\u001b[A\n",
      " 88%|████████▊ | 196/222 [00:05<00:00, 26.39it/s]\u001b[A\n",
      " 90%|█████████ | 200/222 [00:05<00:00, 28.87it/s]\u001b[A\n",
      " 92%|█████████▏| 204/222 [00:05<00:00, 30.54it/s]\u001b[A\n",
      " 94%|█████████▎| 208/222 [00:05<00:00, 31.32it/s]\u001b[A\n",
      " 95%|█████████▌| 212/222 [00:05<00:00, 32.58it/s]\u001b[A\n",
      " 97%|█████████▋| 216/222 [00:05<00:00, 33.59it/s]\u001b[A\n",
      " 99%|█████████▉| 220/222 [00:06<00:00, 34.99it/s]\u001b[A\n",
      "100%|█████████▉| 221/222 [00:06<00:00, 36.20it/s]\u001b[A"
     ]
    },
    {
     "name": "stdout",
     "output_type": "stream",
     "text": [
      "[MoviePy] Done.\n",
      "[MoviePy] >>>> Video ready: videos/output/identified_solidWhiteRight.mp4 \n",
      "\n",
      "CPU times: user 2.67 s, sys: 972 ms, total: 3.64 s\n",
      "Wall time: 6.82 s\n"
     ]
    }
   ],
   "source": [
    "global left_prev\n",
    "global right_prev\n",
    "\n",
    "left_prev = [0, 0]\n",
    "right_prev = [0, 0]\n",
    "\n",
    "white_output = 'videos/output/identified_solidWhiteRight.mp4'\n",
    "clip1 = VideoFileClip(\"videos/input/solidWhiteRight.mp4\")\n",
    "white_clip = clip1.fl_image(process_image) #NOTE: this function expects color images!!\n",
    "%time white_clip.write_videofile(white_output, audio=False)"
   ]
  },
  {
   "cell_type": "code",
   "execution_count": 44,
   "metadata": {
    "collapsed": false
   },
   "outputs": [
    {
     "data": {
      "text/html": [
       "\n",
       "<video width=\"960\" height=\"540\" controls>\n",
       "  <source src=\"videos/output/identified_solidWhiteRight.mp4\">\n",
       "</video>\n"
      ],
      "text/plain": [
       "<IPython.core.display.HTML object>"
      ]
     },
     "execution_count": 44,
     "metadata": {},
     "output_type": "execute_result"
    }
   ],
   "source": [
    "HTML(\"\"\"\n",
    "<video width=\"960\" height=\"540\" controls>\n",
    "  <source src=\"{0}\">\n",
    "</video>\n",
    "\"\"\".format(white_output))"
   ]
  },
  {
   "cell_type": "markdown",
   "metadata": {
    "collapsed": true
   },
   "source": [
    "### Solid Yellow Lane Line"
   ]
  },
  {
   "cell_type": "code",
   "execution_count": 45,
   "metadata": {
    "collapsed": false
   },
   "outputs": [
    {
     "name": "stdout",
     "output_type": "stream",
     "text": [
      "[MoviePy] >>>> Building video videos/output/identified_solidYellowLeft.mp4\n",
      "[MoviePy] Writing video videos/output/identified_solidYellowLeft.mp4\n"
     ]
    },
    {
     "name": "stderr",
     "output_type": "stream",
     "text": [
      "\n",
      "  0%|          | 0/682 [00:00<?, ?it/s]\u001b[A\n",
      "  1%|          | 7/682 [00:00<00:09, 68.97it/s]\u001b[A\n",
      "  2%|▏         | 15/682 [00:00<00:09, 69.44it/s]\u001b[A\n",
      "  3%|▎         | 22/682 [00:00<00:09, 67.30it/s]\u001b[A\n",
      "  4%|▍         | 30/682 [00:00<00:09, 69.46it/s]\u001b[A\n",
      "  6%|▌         | 38/682 [00:00<00:09, 70.36it/s]\u001b[A\n",
      "  7%|▋         | 46/682 [00:00<00:08, 71.40it/s]\u001b[A\n",
      "  8%|▊         | 53/682 [00:00<00:12, 50.48it/s]\u001b[A\n",
      "  9%|▊         | 59/682 [00:01<00:13, 46.16it/s]\u001b[A\n",
      "  9%|▉         | 64/682 [00:01<00:14, 42.56it/s]\u001b[A\n",
      " 10%|█         | 69/682 [00:01<00:15, 39.75it/s]\u001b[A\n",
      " 11%|█         | 74/682 [00:01<00:16, 37.00it/s]\u001b[A\n",
      " 11%|█▏        | 78/682 [00:01<00:16, 36.97it/s]\u001b[A\n",
      " 12%|█▏        | 82/682 [00:01<00:16, 35.38it/s]\u001b[A\n",
      " 13%|█▎        | 86/682 [00:01<00:17, 34.60it/s]\u001b[A\n",
      " 13%|█▎        | 90/682 [00:01<00:16, 34.96it/s]\u001b[A\n",
      " 14%|█▍        | 94/682 [00:02<00:19, 30.56it/s]\u001b[A\n",
      " 14%|█▍        | 98/682 [00:02<00:18, 31.93it/s]\u001b[A\n",
      " 15%|█▌        | 103/682 [00:02<00:17, 33.47it/s]\u001b[A\n",
      " 16%|█▌        | 107/682 [00:02<00:17, 32.40it/s]\u001b[A\n",
      " 16%|█▋        | 111/682 [00:02<00:18, 30.36it/s]\u001b[A\n",
      " 17%|█▋        | 115/682 [00:02<00:17, 31.57it/s]\u001b[A\n",
      " 17%|█▋        | 119/682 [00:02<00:17, 32.79it/s]\u001b[A\n",
      " 18%|█▊        | 123/682 [00:02<00:16, 33.66it/s]\u001b[A\n",
      " 19%|█▊        | 127/682 [00:03<00:15, 34.76it/s]\u001b[A\n",
      " 19%|█▉        | 131/682 [00:03<00:15, 34.92it/s]\u001b[A\n",
      " 20%|█▉        | 136/682 [00:03<00:15, 36.35it/s]\u001b[A\n",
      " 21%|██        | 140/682 [00:03<00:14, 36.88it/s]\u001b[A\n",
      " 21%|██        | 144/682 [00:03<00:14, 36.79it/s]\u001b[A\n",
      " 22%|██▏       | 148/682 [00:03<00:15, 35.14it/s]\u001b[A\n",
      " 22%|██▏       | 153/682 [00:03<00:14, 37.21it/s]\u001b[A\n",
      " 23%|██▎       | 157/682 [00:03<00:14, 35.93it/s]\u001b[A\n",
      " 24%|██▎       | 161/682 [00:04<00:14, 36.13it/s]\u001b[A\n",
      " 24%|██▍       | 165/682 [00:04<00:14, 36.64it/s]\u001b[A\n",
      " 25%|██▍       | 169/682 [00:04<00:13, 37.31it/s]\u001b[A\n",
      " 25%|██▌       | 173/682 [00:04<00:14, 35.17it/s]\u001b[A\n",
      " 26%|██▌       | 177/682 [00:04<00:14, 35.58it/s]\u001b[A\n",
      " 27%|██▋       | 182/682 [00:04<00:13, 35.88it/s]\u001b[A\n",
      " 27%|██▋       | 186/682 [00:04<00:14, 35.36it/s]\u001b[A\n",
      " 28%|██▊       | 190/682 [00:04<00:13, 35.27it/s]\u001b[A\n",
      " 28%|██▊       | 194/682 [00:04<00:13, 35.52it/s]\u001b[A\n",
      " 29%|██▉       | 198/682 [00:05<00:13, 34.81it/s]\u001b[A\n",
      " 30%|██▉       | 202/682 [00:05<00:13, 34.65it/s]\u001b[A\n",
      " 30%|███       | 206/682 [00:05<00:13, 35.09it/s]\u001b[A\n",
      " 31%|███       | 210/682 [00:05<00:13, 35.66it/s]\u001b[A\n",
      " 31%|███▏      | 214/682 [00:05<00:12, 36.08it/s]\u001b[A\n",
      " 32%|███▏      | 218/682 [00:05<00:12, 37.14it/s]\u001b[A\n",
      " 33%|███▎      | 222/682 [00:05<00:12, 36.41it/s]\u001b[A\n",
      " 33%|███▎      | 226/682 [00:05<00:12, 35.66it/s]\u001b[A\n",
      " 34%|███▎      | 230/682 [00:05<00:12, 35.68it/s]\u001b[A\n",
      " 34%|███▍      | 234/682 [00:06<00:12, 36.82it/s]\u001b[A\n",
      " 35%|███▍      | 238/682 [00:06<00:12, 36.21it/s]\u001b[A\n",
      " 35%|███▌      | 242/682 [00:06<00:11, 37.25it/s]\u001b[A\n",
      " 36%|███▌      | 246/682 [00:06<00:12, 36.21it/s]\u001b[A\n",
      " 37%|███▋      | 251/682 [00:06<00:11, 37.71it/s]\u001b[A\n",
      " 37%|███▋      | 255/682 [00:06<00:11, 37.00it/s]\u001b[A\n",
      " 38%|███▊      | 259/682 [00:06<00:11, 36.94it/s]\u001b[A\n",
      " 39%|███▊      | 264/682 [00:06<00:10, 38.10it/s]\u001b[A\n",
      " 39%|███▉      | 268/682 [00:06<00:11, 37.17it/s]\u001b[A\n",
      " 40%|███▉      | 272/682 [00:07<00:11, 37.19it/s]\u001b[A\n",
      " 41%|████      | 277/682 [00:07<00:10, 37.59it/s]\u001b[A\n",
      " 41%|████      | 281/682 [00:07<00:10, 36.80it/s]\u001b[A\n",
      " 42%|████▏     | 285/682 [00:07<00:10, 36.90it/s]\u001b[A\n",
      " 42%|████▏     | 289/682 [00:07<00:10, 36.09it/s]\u001b[A\n",
      " 43%|████▎     | 293/682 [00:07<00:10, 35.61it/s]\u001b[A\n",
      " 44%|████▎     | 297/682 [00:07<00:10, 36.38it/s]\u001b[A\n",
      " 44%|████▍     | 302/682 [00:07<00:09, 39.37it/s]\u001b[A\n",
      " 45%|████▌     | 307/682 [00:07<00:09, 38.82it/s]\u001b[A\n",
      " 46%|████▌     | 311/682 [00:08<00:09, 37.23it/s]\u001b[A\n",
      " 46%|████▌     | 315/682 [00:08<00:10, 35.84it/s]\u001b[A\n",
      " 47%|████▋     | 320/682 [00:08<00:09, 37.06it/s]\u001b[A\n",
      " 48%|████▊     | 324/682 [00:08<00:10, 35.26it/s]\u001b[A\n",
      " 48%|████▊     | 328/682 [00:08<00:09, 35.52it/s]\u001b[A\n",
      " 49%|████▊     | 332/682 [00:08<00:09, 35.67it/s]\u001b[A\n",
      " 49%|████▉     | 336/682 [00:08<00:09, 35.30it/s]\u001b[A\n",
      " 50%|████▉     | 340/682 [00:08<00:09, 35.74it/s]\u001b[A\n",
      " 50%|█████     | 344/682 [00:09<00:09, 35.74it/s]\u001b[A\n",
      " 51%|█████     | 348/682 [00:09<00:09, 33.56it/s]\u001b[A\n",
      " 52%|█████▏    | 352/682 [00:09<00:09, 34.44it/s]\u001b[A\n",
      " 52%|█████▏    | 356/682 [00:09<00:09, 35.38it/s]\u001b[A\n",
      " 53%|█████▎    | 360/682 [00:09<00:09, 35.49it/s]\u001b[A\n",
      " 53%|█████▎    | 364/682 [00:09<00:09, 35.10it/s]\u001b[A\n",
      " 54%|█████▍    | 369/682 [00:09<00:08, 36.35it/s]\u001b[A\n",
      " 55%|█████▍    | 373/682 [00:09<00:08, 36.30it/s]\u001b[A\n",
      " 55%|█████▌    | 377/682 [00:09<00:08, 35.69it/s]\u001b[A\n",
      " 56%|█████▌    | 381/682 [00:10<00:08, 36.24it/s]\u001b[A\n",
      " 56%|█████▋    | 385/682 [00:10<00:08, 35.39it/s]\u001b[A\n",
      " 57%|█████▋    | 389/682 [00:10<00:08, 36.15it/s]\u001b[A\n",
      " 58%|█████▊    | 393/682 [00:10<00:08, 34.62it/s]\u001b[A\n",
      " 58%|█████▊    | 397/682 [00:10<00:07, 35.92it/s]\u001b[A\n",
      " 59%|█████▉    | 401/682 [00:10<00:07, 35.23it/s]\u001b[A\n",
      " 59%|█████▉    | 405/682 [00:10<00:07, 35.07it/s]\u001b[A\n",
      " 60%|██████    | 410/682 [00:10<00:07, 36.17it/s]\u001b[A\n",
      " 61%|██████    | 414/682 [00:10<00:07, 36.09it/s]\u001b[A\n",
      " 61%|██████▏   | 418/682 [00:11<00:07, 36.83it/s]\u001b[A\n",
      " 62%|██████▏   | 422/682 [00:11<00:07, 34.91it/s]\u001b[A\n",
      " 63%|██████▎   | 427/682 [00:11<00:07, 36.22it/s]\u001b[A\n",
      " 63%|██████▎   | 431/682 [00:11<00:06, 36.56it/s]\u001b[A\n",
      " 64%|██████▍   | 435/682 [00:11<00:07, 35.03it/s]\u001b[A\n",
      " 64%|██████▍   | 439/682 [00:11<00:06, 35.25it/s]\u001b[A\n",
      " 65%|██████▌   | 444/682 [00:11<00:06, 36.47it/s]\u001b[A\n",
      " 66%|██████▌   | 448/682 [00:11<00:06, 36.57it/s]\u001b[A\n",
      " 66%|██████▋   | 452/682 [00:12<00:06, 35.53it/s]\u001b[A\n",
      " 67%|██████▋   | 456/682 [00:12<00:06, 36.03it/s]\u001b[A\n",
      " 68%|██████▊   | 461/682 [00:12<00:05, 37.00it/s]\u001b[A\n",
      " 68%|██████▊   | 465/682 [00:12<00:05, 36.53it/s]\u001b[A\n",
      " 69%|██████▉   | 469/682 [00:12<00:05, 36.38it/s]\u001b[A\n",
      " 70%|██████▉   | 474/682 [00:12<00:05, 37.37it/s]\u001b[A\n",
      " 70%|███████   | 478/682 [00:12<00:05, 37.40it/s]\u001b[A\n",
      " 71%|███████   | 483/682 [00:12<00:05, 38.11it/s]\u001b[A\n",
      " 71%|███████▏  | 487/682 [00:12<00:05, 38.21it/s]\u001b[A\n",
      " 72%|███████▏  | 491/682 [00:13<00:05, 37.22it/s]\u001b[A\n",
      " 73%|███████▎  | 495/682 [00:13<00:04, 37.70it/s]\u001b[A\n",
      " 73%|███████▎  | 499/682 [00:13<00:04, 36.75it/s]\u001b[A\n",
      " 74%|███████▍  | 503/682 [00:13<00:04, 37.03it/s]\u001b[A\n",
      " 74%|███████▍  | 507/682 [00:13<00:04, 36.48it/s]\u001b[A\n",
      " 75%|███████▍  | 511/682 [00:13<00:04, 35.49it/s]\u001b[A\n",
      " 76%|███████▌  | 515/682 [00:13<00:04, 36.15it/s]\u001b[A\n",
      " 76%|███████▌  | 520/682 [00:13<00:04, 37.34it/s]\u001b[A\n",
      " 77%|███████▋  | 524/682 [00:13<00:04, 37.06it/s]\u001b[A\n",
      " 77%|███████▋  | 528/682 [00:14<00:04, 36.21it/s]\u001b[A\n",
      " 78%|███████▊  | 532/682 [00:14<00:04, 36.80it/s]\u001b[A\n",
      " 79%|███████▊  | 536/682 [00:14<00:03, 37.66it/s]\u001b[A\n",
      " 79%|███████▉  | 541/682 [00:14<00:03, 36.74it/s]\u001b[A\n",
      " 80%|████████  | 546/682 [00:14<00:03, 37.69it/s]\u001b[A\n",
      " 81%|████████  | 551/682 [00:14<00:03, 38.91it/s]\u001b[A\n",
      " 81%|████████▏ | 555/682 [00:14<00:03, 37.56it/s]\u001b[A\n",
      " 82%|████████▏ | 559/682 [00:14<00:03, 37.11it/s]\u001b[A\n",
      " 83%|████████▎ | 563/682 [00:15<00:03, 37.38it/s]\u001b[A\n",
      " 83%|████████▎ | 567/682 [00:15<00:03, 36.37it/s]\u001b[A\n",
      " 84%|████████▎ | 571/682 [00:15<00:03, 36.77it/s]\u001b[A\n",
      " 84%|████████▍ | 575/682 [00:15<00:02, 37.09it/s]\u001b[A\n",
      " 85%|████████▍ | 579/682 [00:15<00:02, 35.94it/s]\u001b[A\n",
      " 85%|████████▌ | 583/682 [00:15<00:02, 36.88it/s]\u001b[A\n",
      " 86%|████████▌ | 587/682 [00:15<00:02, 35.85it/s]\u001b[A\n",
      " 87%|████████▋ | 591/682 [00:15<00:02, 35.64it/s]\u001b[A\n",
      " 87%|████████▋ | 595/682 [00:15<00:02, 35.24it/s]\u001b[A\n",
      " 88%|████████▊ | 599/682 [00:16<00:02, 35.72it/s]\u001b[A\n",
      " 88%|████████▊ | 603/682 [00:16<00:02, 36.77it/s]\u001b[A\n",
      " 89%|████████▉ | 607/682 [00:16<00:01, 37.66it/s]\u001b[A\n",
      " 90%|████████▉ | 611/682 [00:16<00:01, 37.61it/s]\u001b[A\n",
      " 90%|█████████ | 615/682 [00:16<00:01, 37.32it/s]\u001b[A\n",
      " 91%|█████████ | 619/682 [00:16<00:01, 36.08it/s]\u001b[A\n",
      " 91%|█████████▏| 623/682 [00:16<00:01, 36.68it/s]\u001b[A\n",
      " 92%|█████████▏| 627/682 [00:16<00:01, 37.37it/s]\u001b[A\n",
      " 93%|█████████▎| 631/682 [00:16<00:01, 37.23it/s]\u001b[A\n",
      " 93%|█████████▎| 635/682 [00:16<00:01, 36.91it/s]\u001b[A\n",
      " 94%|█████████▍| 640/682 [00:17<00:01, 36.98it/s]\u001b[A\n",
      " 94%|█████████▍| 644/682 [00:17<00:01, 36.72it/s]\u001b[A\n",
      " 95%|█████████▌| 648/682 [00:17<00:00, 36.36it/s]\u001b[A\n",
      " 96%|█████████▌| 652/682 [00:17<00:00, 36.00it/s]\u001b[A\n",
      " 96%|█████████▌| 656/682 [00:17<00:00, 36.03it/s]\u001b[A\n",
      " 97%|█████████▋| 660/682 [00:17<00:00, 36.17it/s]\u001b[A\n",
      " 97%|█████████▋| 664/682 [00:17<00:00, 36.68it/s]\u001b[A\n",
      " 98%|█████████▊| 668/682 [00:17<00:00, 36.30it/s]\u001b[A\n",
      " 99%|█████████▊| 672/682 [00:18<00:00, 36.65it/s]\u001b[A\n",
      " 99%|█████████▉| 676/682 [00:18<00:00, 36.91it/s]\u001b[A\n",
      "100%|█████████▉| 680/682 [00:18<00:00, 37.14it/s]\u001b[A\n",
      "100%|█████████▉| 681/682 [00:18<00:00, 37.29it/s]\u001b[A"
     ]
    },
    {
     "name": "stdout",
     "output_type": "stream",
     "text": [
      "[MoviePy] Done.\n",
      "[MoviePy] >>>> Video ready: videos/output/identified_solidYellowLeft.mp4 \n",
      "\n",
      "CPU times: user 8.5 s, sys: 2.17 s, total: 10.7 s\n",
      "Wall time: 19 s\n"
     ]
    }
   ],
   "source": [
    "global left_prev\n",
    "global right_prev\n",
    "\n",
    "left_prev = [0, 0]\n",
    "right_prev = [0, 0]\n",
    "\n",
    "yellow_output = 'videos/output/identified_solidYellowLeft.mp4'\n",
    "clip2 = VideoFileClip('videos/input/solidYellowLeft.mp4')\n",
    "yellow_clip = clip2.fl_image(process_image)\n",
    "%time yellow_clip.write_videofile(yellow_output, audio=False)"
   ]
  },
  {
   "cell_type": "code",
   "execution_count": 46,
   "metadata": {
    "collapsed": false,
    "scrolled": false
   },
   "outputs": [
    {
     "data": {
      "text/html": [
       "\n",
       "<video width=\"960\" height=\"540\" controls>\n",
       "  <source src=\"videos/output/identified_solidYellowLeft.mp4\">\n",
       "</video>\n"
      ],
      "text/plain": [
       "<IPython.core.display.HTML object>"
      ]
     },
     "execution_count": 46,
     "metadata": {},
     "output_type": "execute_result"
    }
   ],
   "source": [
    "HTML(\"\"\"\n",
    "<video width=\"960\" height=\"540\" controls>\n",
    "  <source src=\"{0}\">\n",
    "</video>\n",
    "\"\"\".format(yellow_output))"
   ]
  },
  {
   "cell_type": "markdown",
   "metadata": {
    "collapsed": true
   },
   "source": [
    "### Challenge"
   ]
  },
  {
   "cell_type": "code",
   "execution_count": 47,
   "metadata": {
    "collapsed": false
   },
   "outputs": [
    {
     "name": "stdout",
     "output_type": "stream",
     "text": [
      "[MoviePy] >>>> Building video videos/output/identified_challenge.mp4\n",
      "[MoviePy] Writing video videos/output/identified_challenge.mp4\n"
     ]
    },
    {
     "name": "stderr",
     "output_type": "stream",
     "text": [
      "\n",
      "  0%|          | 0/251 [00:00<?, ?it/s]\u001b[A\n",
      "  1%|          | 3/251 [00:00<00:08, 28.17it/s]\u001b[A\n",
      "  3%|▎         | 7/251 [00:00<00:07, 30.69it/s]\u001b[A\n",
      "  5%|▍         | 12/251 [00:00<00:07, 32.69it/s]\u001b[A\n",
      "  6%|▋         | 16/251 [00:00<00:06, 34.16it/s]\u001b[A\n",
      "  8%|▊         | 20/251 [00:00<00:06, 35.49it/s]\u001b[A\n",
      " 10%|▉         | 24/251 [00:00<00:06, 35.48it/s]\u001b[A\n",
      " 11%|█         | 28/251 [00:00<00:06, 36.30it/s]\u001b[A\n",
      " 13%|█▎        | 33/251 [00:00<00:05, 37.37it/s]\u001b[A\n",
      " 15%|█▍        | 37/251 [00:00<00:05, 37.38it/s]\u001b[A\n",
      " 16%|█▋        | 41/251 [00:01<00:05, 37.54it/s]\u001b[A\n",
      " 18%|█▊        | 45/251 [00:01<00:05, 36.37it/s]\u001b[A\n",
      " 20%|█▉        | 49/251 [00:01<00:06, 29.05it/s]\u001b[A\n",
      " 21%|██        | 53/251 [00:01<00:07, 24.85it/s]\u001b[A\n",
      " 22%|██▏       | 56/251 [00:01<00:08, 23.10it/s]\u001b[A\n",
      " 24%|██▎       | 59/251 [00:01<00:08, 21.40it/s]\u001b[A\n",
      " 25%|██▍       | 62/251 [00:02<00:09, 20.59it/s]\u001b[A\n",
      " 26%|██▌       | 65/251 [00:02<00:09, 19.50it/s]\u001b[A\n",
      " 27%|██▋       | 68/251 [00:02<00:09, 19.45it/s]\u001b[A\n",
      " 28%|██▊       | 71/251 [00:02<00:09, 19.04it/s]\u001b[A\n",
      " 29%|██▉       | 73/251 [00:02<00:09, 18.65it/s]\u001b[A\n",
      " 30%|██▉       | 75/251 [00:02<00:09, 17.77it/s]\u001b[A\n",
      " 31%|███       | 77/251 [00:02<00:09, 17.65it/s]\u001b[A\n",
      " 31%|███▏      | 79/251 [00:03<00:09, 17.69it/s]\u001b[A\n",
      " 32%|███▏      | 81/251 [00:03<00:09, 17.76it/s]\u001b[A\n",
      " 33%|███▎      | 83/251 [00:03<00:09, 17.64it/s]\u001b[A\n",
      " 34%|███▍      | 85/251 [00:03<00:09, 17.46it/s]\u001b[A\n",
      " 35%|███▍      | 87/251 [00:03<00:09, 17.23it/s]\u001b[A\n",
      " 35%|███▌      | 89/251 [00:03<00:09, 16.99it/s]\u001b[A\n",
      " 36%|███▋      | 91/251 [00:03<00:09, 16.65it/s]\u001b[A\n",
      " 37%|███▋      | 93/251 [00:03<00:09, 16.84it/s]\u001b[A\n",
      " 38%|███▊      | 95/251 [00:04<00:09, 16.98it/s]\u001b[A\n",
      " 39%|███▊      | 97/251 [00:04<00:09, 16.73it/s]\u001b[A\n",
      " 39%|███▉      | 99/251 [00:04<00:08, 17.17it/s]\u001b[A\n",
      " 40%|████      | 101/251 [00:04<00:08, 16.91it/s]\u001b[A\n",
      " 41%|████      | 103/251 [00:04<00:08, 17.14it/s]\u001b[A\n",
      " 42%|████▏     | 105/251 [00:04<00:08, 17.60it/s]\u001b[A\n",
      " 43%|████▎     | 107/251 [00:04<00:08, 17.59it/s]\u001b[A\n",
      " 43%|████▎     | 109/251 [00:04<00:08, 16.47it/s]\u001b[A\n",
      " 44%|████▍     | 111/251 [00:04<00:08, 17.03it/s]\u001b[A\n",
      " 45%|████▌     | 113/251 [00:05<00:08, 16.66it/s]\u001b[A\n",
      " 46%|████▌     | 115/251 [00:05<00:08, 16.98it/s]\u001b[A\n",
      " 47%|████▋     | 117/251 [00:05<00:07, 17.13it/s]\u001b[A\n",
      " 47%|████▋     | 119/251 [00:05<00:07, 17.53it/s]\u001b[A\n",
      " 48%|████▊     | 121/251 [00:05<00:07, 16.82it/s]\u001b[A\n",
      " 49%|████▉     | 123/251 [00:05<00:07, 16.80it/s]\u001b[A\n",
      " 50%|████▉     | 125/251 [00:05<00:07, 17.36it/s]\u001b[A\n",
      " 51%|█████     | 127/251 [00:05<00:08, 15.10it/s]\u001b[A\n",
      " 51%|█████▏    | 129/251 [00:06<00:08, 14.80it/s]\u001b[A\n",
      " 52%|█████▏    | 131/251 [00:06<00:07, 15.37it/s]\u001b[A\n",
      " 53%|█████▎    | 133/251 [00:06<00:07, 14.85it/s]\u001b[A\n",
      " 54%|█████▍    | 135/251 [00:06<00:07, 15.02it/s]\u001b[A\n",
      " 55%|█████▍    | 137/251 [00:06<00:07, 15.11it/s]\u001b[A\n",
      " 55%|█████▌    | 139/251 [00:06<00:07, 15.58it/s]\u001b[A\n",
      " 56%|█████▌    | 141/251 [00:06<00:07, 15.61it/s]\u001b[A\n",
      " 57%|█████▋    | 143/251 [00:06<00:07, 15.22it/s]\u001b[A\n",
      " 58%|█████▊    | 145/251 [00:07<00:06, 15.28it/s]\u001b[A\n",
      " 59%|█████▊    | 147/251 [00:07<00:06, 15.13it/s]\u001b[A\n",
      " 59%|█████▉    | 149/251 [00:07<00:06, 15.00it/s]\u001b[A\n",
      " 60%|██████    | 151/251 [00:07<00:06, 15.53it/s]\u001b[A\n",
      " 61%|██████    | 153/251 [00:07<00:06, 16.24it/s]\u001b[A\n",
      " 62%|██████▏   | 155/251 [00:07<00:06, 15.45it/s]\u001b[A\n",
      " 63%|██████▎   | 157/251 [00:07<00:05, 16.53it/s]\u001b[A\n",
      " 63%|██████▎   | 159/251 [00:07<00:05, 16.25it/s]\u001b[A\n",
      " 64%|██████▍   | 161/251 [00:08<00:05, 16.67it/s]\u001b[A\n",
      " 65%|██████▍   | 163/251 [00:08<00:05, 17.01it/s]\u001b[A\n",
      " 66%|██████▌   | 165/251 [00:08<00:05, 15.47it/s]\u001b[A\n",
      " 67%|██████▋   | 167/251 [00:08<00:05, 16.32it/s]\u001b[A\n",
      " 67%|██████▋   | 169/251 [00:08<00:05, 16.21it/s]\u001b[A\n",
      " 68%|██████▊   | 171/251 [00:08<00:05, 15.38it/s]\u001b[A\n",
      " 69%|██████▉   | 173/251 [00:08<00:05, 14.56it/s]\u001b[A\n",
      " 70%|██████▉   | 175/251 [00:09<00:05, 14.99it/s]\u001b[A\n",
      " 71%|███████   | 177/251 [00:09<00:05, 13.76it/s]\u001b[A\n",
      " 71%|███████▏  | 179/251 [00:09<00:05, 13.94it/s]\u001b[A\n",
      " 72%|███████▏  | 181/251 [00:09<00:05, 13.19it/s]\u001b[A\n",
      " 73%|███████▎  | 183/251 [00:09<00:05, 11.86it/s]\u001b[A\n",
      " 74%|███████▎  | 185/251 [00:09<00:05, 11.60it/s]\u001b[A\n",
      " 75%|███████▍  | 187/251 [00:10<00:05, 12.53it/s]\u001b[A\n",
      " 75%|███████▌  | 189/251 [00:10<00:05, 12.26it/s]\u001b[A\n",
      " 76%|███████▌  | 191/251 [00:10<00:04, 12.18it/s]\u001b[A\n",
      " 77%|███████▋  | 193/251 [00:10<00:04, 12.48it/s]\u001b[A\n",
      " 78%|███████▊  | 195/251 [00:10<00:04, 12.59it/s]\u001b[A\n",
      " 78%|███████▊  | 197/251 [00:10<00:04, 12.80it/s]\u001b[A\n",
      " 79%|███████▉  | 199/251 [00:10<00:03, 13.44it/s]\u001b[A\n",
      " 80%|████████  | 201/251 [00:11<00:03, 12.88it/s]\u001b[A\n",
      " 81%|████████  | 203/251 [00:11<00:03, 13.26it/s]\u001b[A\n",
      " 82%|████████▏ | 205/251 [00:11<00:03, 13.91it/s]\u001b[A\n",
      " 82%|████████▏ | 207/251 [00:11<00:03, 14.27it/s]\u001b[A\n",
      " 83%|████████▎ | 209/251 [00:11<00:02, 15.12it/s]\u001b[A\n",
      " 84%|████████▍ | 211/251 [00:11<00:02, 14.97it/s]\u001b[A\n",
      " 85%|████████▍ | 213/251 [00:11<00:02, 15.89it/s]\u001b[A\n",
      " 86%|████████▌ | 215/251 [00:12<00:02, 15.93it/s]\u001b[A\n",
      " 86%|████████▋ | 217/251 [00:12<00:02, 15.92it/s]\u001b[A\n",
      " 87%|████████▋ | 219/251 [00:12<00:02, 15.89it/s]\u001b[A\n",
      " 88%|████████▊ | 221/251 [00:12<00:01, 15.97it/s]\u001b[A\n",
      " 89%|████████▉ | 223/251 [00:12<00:01, 16.15it/s]\u001b[A\n",
      " 90%|████████▉ | 225/251 [00:12<00:01, 14.10it/s]\u001b[A\n",
      " 90%|█████████ | 227/251 [00:12<00:01, 15.40it/s]\u001b[A\n",
      " 91%|█████████ | 229/251 [00:12<00:01, 15.76it/s]\u001b[A\n",
      " 92%|█████████▏| 231/251 [00:13<00:01, 14.68it/s]\u001b[A\n",
      " 93%|█████████▎| 234/251 [00:13<00:01, 15.68it/s]\u001b[A\n",
      " 94%|█████████▍| 236/251 [00:13<00:00, 15.64it/s]\u001b[A\n",
      " 95%|█████████▍| 238/251 [00:13<00:00, 15.43it/s]\u001b[A\n",
      " 96%|█████████▌| 240/251 [00:13<00:00, 16.36it/s]\u001b[A\n",
      " 96%|█████████▋| 242/251 [00:13<00:00, 16.85it/s]\u001b[A\n",
      " 97%|█████████▋| 244/251 [00:13<00:00, 16.91it/s]\u001b[A\n",
      " 98%|█████████▊| 247/251 [00:13<00:00, 18.26it/s]\u001b[A\n",
      " 99%|█████████▉| 249/251 [00:14<00:00, 17.64it/s]\u001b[A\n",
      "100%|██████████| 251/251 [00:14<00:00, 18.19it/s]\u001b[A\n",
      "\u001b[A"
     ]
    },
    {
     "name": "stdout",
     "output_type": "stream",
     "text": [
      "[MoviePy] Done.\n",
      "[MoviePy] >>>> Video ready: videos/output/identified_challenge.mp4 \n",
      "\n",
      "CPU times: user 6.55 s, sys: 1.58 s, total: 8.12 s\n",
      "Wall time: 15.8 s\n"
     ]
    }
   ],
   "source": [
    "global left_prev\n",
    "global right_prev\n",
    "\n",
    "left_prev = [0, 0]\n",
    "right_prev = [0, 0]\n",
    "\n",
    "challenge_output = 'videos/output/identified_challenge.mp4'\n",
    "clip2 = VideoFileClip('videos/input/challenge.mp4')\n",
    "challenge_clip = clip2.fl_image(process_image)\n",
    "%time challenge_clip.write_videofile(challenge_output, audio=False)"
   ]
  },
  {
   "cell_type": "code",
   "execution_count": 48,
   "metadata": {
    "collapsed": false
   },
   "outputs": [
    {
     "data": {
      "text/html": [
       "\n",
       "<video width=\"960\" height=\"540\" controls>\n",
       "  <source src=\"videos/output/identified_challenge.mp4\">\n",
       "</video>\n"
      ],
      "text/plain": [
       "<IPython.core.display.HTML object>"
      ]
     },
     "execution_count": 48,
     "metadata": {},
     "output_type": "execute_result"
    }
   ],
   "source": [
    "HTML(\"\"\"\n",
    "<video width=\"960\" height=\"540\" controls>\n",
    "  <source src=\"{0}\">\n",
    "</video>\n",
    "\"\"\".format(challenge_output))"
   ]
  },
  {
   "cell_type": "code",
   "execution_count": null,
   "metadata": {
    "collapsed": true
   },
   "outputs": [],
   "source": []
  }
 ],
 "metadata": {
  "anaconda-cloud": {},
  "kernelspec": {
   "display_name": "Python 3",
   "language": "python",
   "name": "python3"
  },
  "language_info": {
   "codemirror_mode": {
    "name": "ipython",
    "version": 3
   },
   "file_extension": ".py",
   "mimetype": "text/x-python",
   "name": "python",
   "nbconvert_exporter": "python",
   "pygments_lexer": "ipython3",
   "version": "3.5.2"
  },
  "widgets": {
   "state": {},
   "version": "1.1.2"
  }
 },
 "nbformat": 4,
 "nbformat_minor": 0
}
